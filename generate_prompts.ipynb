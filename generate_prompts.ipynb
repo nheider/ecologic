{
 "cells": [
  {
   "cell_type": "code",
   "execution_count": null,
   "metadata": {},
   "outputs": [],
   "source": [
    "# We keep the main benchmark vague, so the prompts can be fine tuned to the idiosyncracies of each model. \n",
    "# This is an example of how it would be done "
   ]
  },
  {
   "cell_type": "code",
   "execution_count": 1,
   "metadata": {},
   "outputs": [],
   "source": [
    "import pandas as pd"
   ]
  },
  {
   "cell_type": "code",
   "execution_count": 11,
   "metadata": {},
   "outputs": [
    {
     "data": {
      "text/html": [
       "<div>\n",
       "<style scoped>\n",
       "    .dataframe tbody tr th:only-of-type {\n",
       "        vertical-align: middle;\n",
       "    }\n",
       "\n",
       "    .dataframe tbody tr th {\n",
       "        vertical-align: top;\n",
       "    }\n",
       "\n",
       "    .dataframe thead th {\n",
       "        text-align: right;\n",
       "    }\n",
       "</style>\n",
       "<table border=\"1\" class=\"dataframe\">\n",
       "  <thead>\n",
       "    <tr style=\"text-align: right;\">\n",
       "      <th></th>\n",
       "      <th>graph_id</th>\n",
       "      <th>Prompt_A</th>\n",
       "      <th>Prompt_B</th>\n",
       "      <th>Prompt_C</th>\n",
       "      <th>Intervention</th>\n",
       "      <th>Intervention_pseudonym</th>\n",
       "      <th>Target</th>\n",
       "      <th>Target_pseudonym</th>\n",
       "      <th>Change</th>\n",
       "      <th>#Nodes</th>\n",
       "      <th>#Edges</th>\n",
       "      <th>Depth</th>\n",
       "    </tr>\n",
       "  </thead>\n",
       "  <tbody>\n",
       "    <tr>\n",
       "      <th>0</th>\n",
       "      <td>0</td>\n",
       "      <td>Vulpes ferrilata preys on Ochotona and Ochoton...</td>\n",
       "      <td>Animal C preys on Animal A and Animal B.</td>\n",
       "      <td>Vulpes ferrilata, Ochotona, Ochotonidae</td>\n",
       "      <td>Vulpes ferrilata</td>\n",
       "      <td>Animal C</td>\n",
       "      <td>Ochotona</td>\n",
       "      <td>Animal A</td>\n",
       "      <td>-1</td>\n",
       "      <td>3</td>\n",
       "      <td>2</td>\n",
       "      <td>2</td>\n",
       "    </tr>\n",
       "    <tr>\n",
       "      <th>1</th>\n",
       "      <td>0</td>\n",
       "      <td>Vulpes ferrilata preys on Ochotona and Ochoton...</td>\n",
       "      <td>Animal C preys on Animal A and Animal B.</td>\n",
       "      <td>Vulpes ferrilata, Ochotona, Ochotonidae</td>\n",
       "      <td>Vulpes ferrilata</td>\n",
       "      <td>Animal C</td>\n",
       "      <td>Ochotonidae</td>\n",
       "      <td>Animal B</td>\n",
       "      <td>-1</td>\n",
       "      <td>3</td>\n",
       "      <td>2</td>\n",
       "      <td>2</td>\n",
       "    </tr>\n",
       "    <tr>\n",
       "      <th>2</th>\n",
       "      <td>1</td>\n",
       "      <td>Orcinus orca preys on Arctocephalus tropicalis...</td>\n",
       "      <td>Animal E preys on Animal A, Animal D, Animal F...</td>\n",
       "      <td>Orcinus orca, Arctocephalus tropicalis, Lobodo...</td>\n",
       "      <td>Orcinus orca</td>\n",
       "      <td>Animal E</td>\n",
       "      <td>Zalophus californianus</td>\n",
       "      <td>Animal H</td>\n",
       "      <td>-1</td>\n",
       "      <td>8</td>\n",
       "      <td>7</td>\n",
       "      <td>2</td>\n",
       "    </tr>\n",
       "    <tr>\n",
       "      <th>3</th>\n",
       "      <td>1</td>\n",
       "      <td>Orcinus orca preys on Arctocephalus tropicalis...</td>\n",
       "      <td>Animal E preys on Animal A, Animal D, Animal F...</td>\n",
       "      <td>Orcinus orca, Arctocephalus tropicalis, Lobodo...</td>\n",
       "      <td>Orcinus orca</td>\n",
       "      <td>Animal E</td>\n",
       "      <td>Canis lupus</td>\n",
       "      <td>Animal C</td>\n",
       "      <td>1</td>\n",
       "      <td>8</td>\n",
       "      <td>7</td>\n",
       "      <td>2</td>\n",
       "    </tr>\n",
       "    <tr>\n",
       "      <th>4</th>\n",
       "      <td>1</td>\n",
       "      <td>Orcinus orca preys on Arctocephalus tropicalis...</td>\n",
       "      <td>Animal E preys on Animal A, Animal D, Animal F...</td>\n",
       "      <td>Orcinus orca, Arctocephalus tropicalis, Lobodo...</td>\n",
       "      <td>Orcinus orca</td>\n",
       "      <td>Animal E</td>\n",
       "      <td>Phoca vitulina richardii</td>\n",
       "      <td>Animal F</td>\n",
       "      <td>-1</td>\n",
       "      <td>8</td>\n",
       "      <td>7</td>\n",
       "      <td>2</td>\n",
       "    </tr>\n",
       "  </tbody>\n",
       "</table>\n",
       "</div>"
      ],
      "text/plain": [
       "   graph_id                                           Prompt_A  \\\n",
       "0         0  Vulpes ferrilata preys on Ochotona and Ochoton...   \n",
       "1         0  Vulpes ferrilata preys on Ochotona and Ochoton...   \n",
       "2         1  Orcinus orca preys on Arctocephalus tropicalis...   \n",
       "3         1  Orcinus orca preys on Arctocephalus tropicalis...   \n",
       "4         1  Orcinus orca preys on Arctocephalus tropicalis...   \n",
       "\n",
       "                                            Prompt_B  \\\n",
       "0           Animal C preys on Animal A and Animal B.   \n",
       "1           Animal C preys on Animal A and Animal B.   \n",
       "2  Animal E preys on Animal A, Animal D, Animal F...   \n",
       "3  Animal E preys on Animal A, Animal D, Animal F...   \n",
       "4  Animal E preys on Animal A, Animal D, Animal F...   \n",
       "\n",
       "                                            Prompt_C      Intervention  \\\n",
       "0            Vulpes ferrilata, Ochotona, Ochotonidae  Vulpes ferrilata   \n",
       "1            Vulpes ferrilata, Ochotona, Ochotonidae  Vulpes ferrilata   \n",
       "2  Orcinus orca, Arctocephalus tropicalis, Lobodo...      Orcinus orca   \n",
       "3  Orcinus orca, Arctocephalus tropicalis, Lobodo...      Orcinus orca   \n",
       "4  Orcinus orca, Arctocephalus tropicalis, Lobodo...      Orcinus orca   \n",
       "\n",
       "  Intervention_pseudonym                    Target Target_pseudonym  Change  \\\n",
       "0               Animal C                  Ochotona         Animal A      -1   \n",
       "1               Animal C               Ochotonidae         Animal B      -1   \n",
       "2               Animal E    Zalophus californianus         Animal H      -1   \n",
       "3               Animal E               Canis lupus         Animal C       1   \n",
       "4               Animal E  Phoca vitulina richardii         Animal F      -1   \n",
       "\n",
       "   #Nodes  #Edges  Depth  \n",
       "0       3       2      2  \n",
       "1       3       2      2  \n",
       "2       8       7      2  \n",
       "3       8       7      2  \n",
       "4       8       7      2  "
      ]
     },
     "execution_count": 11,
     "metadata": {},
     "output_type": "execute_result"
    }
   ],
   "source": [
    "df = pd.read_csv('ecologic_benchmark.csv')\n",
    "df.head()"
   ]
  },
  {
   "cell_type": "code",
   "execution_count": 16,
   "metadata": {},
   "outputs": [
    {
     "name": "stdout",
     "output_type": "stream",
     "text": [
      "Vulpes ferrilata preys on Ochotona and Ochotonidae. If the population of Vulpes ferrilata increases. What happens to the population of Ochotona? Does it a) increase b) decrease or is there c) no change?\n",
      "Animal C preys on Animal A and Animal B. If the population of Animal C increases. What happens to the population of Animal A? Does it a) increase b) decrease or is there c) no change?\n",
      "Vulpes ferrilata, Ochotona, Ochotonidae form a Food-Web. If Vulpes ferrilata increases. What happens to the population of Ochotona? Does it a) increase b) decrease or is there c) no change?\n"
     ]
    }
   ],
   "source": [
    "for index, row in df.iterrows():\n",
    "    prompt_a = f\"{row['Prompt_A']} If the population of {row['Intervention']} increases. What happens to the population of {row['Target']}? Does it a) increase b) decrease or is there c) no change?\"\n",
    "    prompt_b = f\"{row['Prompt_B']} If the population of {row['Intervention_pseudonym']} increases. What happens to the population of {row['Target_pseudonym']}? Does it a) increase b) decrease or is there c) no change?\"\n",
    "    prompt_c = f\"{row['Prompt_C']} form a Food-Web. If {row['Intervention']} increases. What happens to the population of {row['Target']}? Does it a) increase b) decrease or is there c) no change?\"\n",
    "    break \n",
    "\n",
    "print(prompt_a)\n",
    "print(prompt_b)\n",
    "print(prompt_c)"
   ]
  },
  {
   "cell_type": "code",
   "execution_count": null,
   "metadata": {},
   "outputs": [],
   "source": [
    "# Now we just have to input these prompts into an LLM and check against the ground truth if they are correct "
   ]
  }
 ],
 "metadata": {
  "kernelspec": {
   "display_name": "base",
   "language": "python",
   "name": "python3"
  },
  "language_info": {
   "codemirror_mode": {
    "name": "ipython",
    "version": 3
   },
   "file_extension": ".py",
   "mimetype": "text/x-python",
   "name": "python",
   "nbconvert_exporter": "python",
   "pygments_lexer": "ipython3",
   "version": "3.9.19"
  }
 },
 "nbformat": 4,
 "nbformat_minor": 2
}
